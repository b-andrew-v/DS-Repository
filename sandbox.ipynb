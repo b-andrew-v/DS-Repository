{
 "cells": [
  {
   "cell_type": "code",
   "execution_count": null,
   "metadata": {},
   "outputs": [],
   "source": []
  }
 ],
 "metadata": {
  "kernelspec": {
   "display_name": "Python 3.8.5 64-bit",
   "language": "python",
   "name": "python3"
  },
  "language_info": {
   "name": "python",
   "version": "3.8.5"
  },
  "orig_nbformat": 4,
  "vscode": {
   "interpreter": {
    "hash": "7beeaa4b8f22b9185b1e521538f7192aa07b748b397f7dd7c47e37507a66fa45"
   }
  }
 },
 "nbformat": 4,
 "nbformat_minor": 2
}
